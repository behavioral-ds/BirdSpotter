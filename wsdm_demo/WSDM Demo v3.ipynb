{
 "cells": [
  {
   "cell_type": "markdown",
   "metadata": {
    "slideshow": {
     "slide_type": "slide"
    }
   },
   "source": [
    "# <img src=\"https://raw.githubusercontent.com/behavioral-ds/BirdSpotter/master/birdspotter_logo.png\" width=\"200\"> Birdspotter: A Tool for Analyzing and Labeling Twitter Users\n",
    "\n",
    "### Rohit Ram [@rohitram96](https://twitter.com/rohitram96), Quyu Kong [@kaserty](https://twitter.com/kaserty), Marian-Andrei Rizoiu [@andrei_rizoiu](https://twitter.com/andrei_rizoiu)\n",
    "***\n",
    "<div style=\"display:flex; justify-content: flex-end; text-align: right;\">\n",
    "    <img src='uts.png' width=\"100\" alt='' style=\"flex:1\">\n",
    "    <img src='https://style.anu.edu.au/_anu/4/images/logos/anu_logo_fb_350.png' width=\"100\" alt='' style=\"flex:1\">\n",
    "    <img src='https://chart.googleapis.com/chart?cht=qr&chl=https%3A%2F%2Fgithub.com%2Fbehavioral-ds%2FBirdSpotter&chs=180x180&choe=UTF-8&chld=L|2' width=\"100\" alt='' style=\"flex:1\">\n",
    "</div>"
   ]
  },
  {
   "cell_type": "markdown",
   "metadata": {
    "slideshow": {
     "slide_type": "notes"
    }
   },
   "source": [
    "- the primary developer of `birdspotter`. \n",
    "- collaboration\n",
    "- QR to the github repository."
   ]
  },
  {
   "cell_type": "markdown",
   "metadata": {
    "slideshow": {
     "slide_type": "slide"
    }
   },
   "source": [
    "## Problems\n",
    "***\n",
    "***\n",
    "<div class=\"mytricontainer\">\n",
    "    <div class=\"mydiv\">\n",
    "        <h3> Bots <br/></h3>\n",
    "        <img class=\"myimg\" src=\"https://static.thenounproject.com/png/1812216-200.png\" width=\"200\"/>\n",
    "    </div>\n",
    "    <div class=\"mydiv\">\n",
    "        <h3> Political  Leaning</h3>\n",
    "        <img class=\"myimg\" src=\"https://static.thenounproject.com/png/2335026-200.png\" width=\"200\"/>\n",
    "    </div>\n",
    "    <div class=\"mydiv\">\n",
    "        <h3> Disinformation <br/></h3>\n",
    "        <img class=\"myimg\" src=\"https://static.thenounproject.com/png/881233-200.png\" width=\"200\"/>\n",
    "    </div>\n",
    "</div>"
   ]
  },
  {
   "cell_type": "markdown",
   "metadata": {
    "slideshow": {
     "slide_type": "notes"
    }
   },
   "source": [
    "- Social Media usage taking off, implications for society significant\n",
    "- Advent: OSB, divergence of ideology, spread disinformation, concerning impacts on instituions\n",
    "- Increasigly researchers are interested in understanding the implications of these online phenomena.\n",
    "- [stakeholders] curate expansive datasets, to understand phenomena\n",
    "- [problem] stakeholders face a lack of tooling to analyze such datasets\n",
    "\n",
    "\n",
    "- context\n",
    "- problems:\n",
    "- solution:\n",
    "- context \n",
    "- porblem"
   ]
  },
  {
   "cell_type": "markdown",
   "metadata": {
    "slideshow": {
     "slide_type": "slide"
    }
   },
   "source": [
    "# Birdspotter\n",
    "***\n",
    "<div class=\"mydicontainer\">\n",
    "    <div>\n",
    "        <ul>\n",
    "            <li>\n",
    "                An <b>easy-to-use</b> Twitter user analysis tool\n",
    "                <ul>\n",
    "                    <li>Designed for political scientists, sociologists and, data-practitioners alike</li>\n",
    "                    <li>Models the attributes of Twitter users, and labels them</li>\n",
    "                    <li>Prepackaged with a state-of-the-art offline bot detector</li>\n",
    "                    <li>Quantifies influence via a Tweet Dynamics System</li>\n",
    "                </ul>\n",
    "            <li>The <b>intuitive visualization birdspotter.ml</b> for dataset exploration and narrative construction.</li>\n",
    "            <li>A <b>versatile label classifier</b> which can be applied to diverse aforementioned use-cases.</li>\n",
    "        </ul>\n",
    "    </div>\n",
    "    <div class=\"myimg\">\n",
    "        <img src=\"auspol_teaser.png\" width=900>\n",
    "    </div>\n",
    "</div>"
   ]
  },
  {
   "cell_type": "markdown",
   "metadata": {
    "slideshow": {
     "slide_type": "notes"
    }
   },
   "source": [
    "Birdspotter provides several contributions to the research community. \n",
    "\n",
    "Firstly, its basic workflow is simple to operate. It comes with an offline bot detector comparable to the state of the art, and a influence quantification system. \n",
    "\n",
    "Secondly, it comes with an accompanying visualization, birdspotter.ml, allowing dataset exploration and narrative construction.\n",
    "\n",
    "Lastly, birdspotter is versitile and can be used for diverse use-cases which practitioners are likely interested in."
   ]
  },
  {
   "cell_type": "markdown",
   "metadata": {
    "slideshow": {
     "slide_type": "slide"
    }
   },
   "source": [
    "## Outline\n",
    "***\n",
    "\n",
    "* A peak under-the-hood\n",
    "* A basic walkthrough for `birdspotter` workflow\n",
    "* A customisation `birdspotter` to detect political leaning"
   ]
  },
  {
   "cell_type": "markdown",
   "metadata": {
    "slideshow": {
     "slide_type": "notes"
    }
   },
   "source": [
    "In this video, we'll take you through three aspects of birdspotter.\n",
    "\n",
    "We'll start by highlighting the features of users birdspotter focusses on.\n",
    "\n",
    "We'll then walk-through the basic workflow for birdspotter, and show some simple visualisations\n",
    "\n",
    "Finally, we'll show how birdspotter can be customised for another use case."
   ]
  },
  {
   "cell_type": "markdown",
   "metadata": {
    "slideshow": {
     "slide_type": "slide"
    }
   },
   "source": [
    "## Under the hood\n",
    "<div class=\"mytrirowcontainer\">\n",
    "<div>\n",
    "    <h5>Twitter User Features</h5>\n",
    "    <div class=\"mydicontainer\">\n",
    "        <div class=\"myimg\">\n",
    "        <img class=\"myimg\" src=\"https://cdn.iconscout.com/icon/free/png-512/twitter-241-721979.png\" width=\"100\"/>\n",
    "        </div>\n",
    "        <div style=\"width: 1000px\">\n",
    "        <small>\n",
    "                These features are engineered directly from twitter user attributes, providing insights into the nature of the users. Features include <code>follower_count</code>,  <code>years_on_twitter</code>, <code>statuses_rate</code>, ...\n",
    "        </small>\n",
    "        </div>\n",
    "    </div>\n",
    "</div>\n",
    "<div>\n",
    "    <h5>Semantic Features</h5>\n",
    "    <div class=\"mydicontainer\">\n",
    "        <div>\n",
    "        <img class=\"myimg\" src=\"https://static.thenounproject.com/png/1714867-200.png\" width=\"100\"/>\n",
    "        </div>\n",
    "        <div style=\"width: 1000px\">\n",
    "        <small>\n",
    "            These features focus on the language of users by embedding their tweets and description with Fasttext wiki-news-300d-1M word embeddings.\n",
    "        </small>\n",
    "        </div>\n",
    "    </div>\n",
    "</div>\n",
    "<div>\n",
    "    <h5>Topic Features</h5>\n",
    "    <div class=\"mydicontainer\">\n",
    "        <div>\n",
    "        <img class=\"myimg\" src=\"https://static.thenounproject.com/png/1308644-200.png\" width=\"100\"/>\n",
    "        </div>\n",
    "        <div style=\"width: 1000px\">\n",
    "        <small>\n",
    "            These features focus on the topics users talk about, using the TF-IDF of the 1,000 most frequent hashtags.\n",
    "        </small>\n",
    "        </div>\n",
    "    </div>\n",
    "</div>\n",
    "<div>\n",
    "    <h5>Retweet Dynamics</h5>\n",
    "    <div class=\"mydicontainer\">\n",
    "        <div>\n",
    "        <img class=\"myimg\" src=\"https://static.thenounproject.com/png/635941-200.png\" width=\"100\"/>\n",
    "        </div>\n",
    "        <div style=\"width: 1000px\">\n",
    "        <small>\n",
    "            These features use the timing and follower counts of tweets/users, to reconstruct an expected retweet diffusion of a cascade.\n",
    "        </small>\n",
    "        </div>\n",
    "    </div>\n",
    "</div> \n",
    "</div>"
   ]
  },
  {
   "cell_type": "markdown",
   "metadata": {
    "slideshow": {
     "slide_type": "notes"
    }
   },
   "source": [
    "Birdspotter has two main systems; it's labeller and it influence quantification. \n",
    "These first three feature sets are engineered to provide informative representations of users for the labeller.\n",
    "\n",
    "The Twitter User Features, are engineered directly from twitter user attributes to provide information about a users status and behaviour on the platform. Constructed features include the `statuses_rate`, `years_on_twitter`, etc. If `statuses_rate` is high this might indicate a bot. If `year_on_twitter` are low, this might indicate a sock puppet account. \n",
    "\n",
    "The Semantic features are engineered to focus on the language users use. We embed a users tweets and descriptions using the Fasttext word2vec embeddings, to provide a indication of a users language profile.\n",
    "\n",
    "The Topic features relate to the hashtags that users use, and conseuqnetly the topics they talk about. We use the TF-IDF of the 1,000 most frequent hashtags in a dataset, to represent this.\n",
    "\n",
    "Finally, the influence quantification system, uses the timing and follower_counts of users to infer if a retweet is a direct retweet of another. This is used to quantify the influence of users."
   ]
  },
  {
   "cell_type": "markdown",
   "metadata": {
    "slideshow": {
     "slide_type": "slide"
    }
   },
   "source": [
    "### Bot Detector Performance\n",
    "***\n",
    "<img class=\"myimg\" src=\"ablation_1.svg\"/>"
   ]
  },
  {
   "cell_type": "markdown",
   "metadata": {
    "slideshow": {
     "slide_type": "slide"
    }
   },
   "source": [
    "### Bot Detector Performance\n",
    "***\n",
    "<img class=\"myimg\" src=\"ablation_2.svg\"/>"
   ]
  },
  {
   "cell_type": "markdown",
   "metadata": {
    "slideshow": {
     "slide_type": "slide"
    }
   },
   "source": [
    "### Bot Detector Performance\n",
    "***\n",
    "<img class=\"myimg\" src=\"ablation_3.svg\"/>"
   ]
  },
  {
   "cell_type": "markdown",
   "metadata": {
    "slideshow": {
     "slide_type": "notes"
    }
   },
   "source": [
    "* Ablation shows higher scores, but we keep all features for feature diversity for broader use-cases"
   ]
  },
  {
   "cell_type": "markdown",
   "metadata": {
    "slideshow": {
     "slide_type": "slide"
    }
   },
   "source": [
    "## Influence Quantification\n",
    "***\n",
    "<img class=\"myimg\" src=\"diffusion.PNG\"/>"
   ]
  },
  {
   "cell_type": "markdown",
   "metadata": {
    "slideshow": {
     "slide_type": "notes"
    }
   },
   "source": [
    "* Compute influence as number of descendants\n",
    "* {Point to two examples}\n",
    "* Problem: This structure of tweets and retweets isn't provide\n",
    "* Solution: We reconstruct it"
   ]
  },
  {
   "cell_type": "code",
   "execution_count": 1,
   "metadata": {
    "slideshow": {
     "slide_type": "skip"
    }
   },
   "outputs": [],
   "source": [
    "import seaborn as sns\n",
    "import matplotlib.pyplot as plt\n",
    "from birdspotter import BirdSpotter\n",
    "\n",
    "import pandas as pd\n",
    "from tqdm import tqdm\n",
    "import json\n",
    "import pickle as pk\n",
    "import numpy as np\n",
    "import os\n",
    "\n",
    "sns.set(rc={'figure.figsize':(11.7,8.27)})"
   ]
  },
  {
   "cell_type": "markdown",
   "metadata": {
    "slideshow": {
     "slide_type": "slide"
    }
   },
   "source": [
    "## Basic Usage"
   ]
  },
  {
   "cell_type": "markdown",
   "metadata": {
    "slideshow": {
     "slide_type": "fragment"
    }
   },
   "source": [
    "#### Installation"
   ]
  },
  {
   "cell_type": "raw",
   "metadata": {
    "slideshow": {
     "slide_type": "fragment"
    }
   },
   "source": [
    "!pip install birdspotter"
   ]
  },
  {
   "cell_type": "markdown",
   "metadata": {
    "slideshow": {
     "slide_type": "notes"
    }
   },
   "source": [
    "We can now walk-through a simple workflow for birdspotter.\n",
    "\n",
    "Firstly, birdspotter is provided through the pypi package manager, and can be installed with `pip install birdspotter`"
   ]
  },
  {
   "cell_type": "markdown",
   "metadata": {
    "slideshow": {
     "slide_type": "slide"
    }
   },
   "source": [
    "#### Basic Workflow"
   ]
  },
  {
   "cell_type": "code",
   "execution_count": 1,
   "metadata": {
    "slideshow": {
     "slide_type": "skip"
    }
   },
   "outputs": [],
   "source": [
    "# We got the tweets from the following the github repository https://github.com/echen102/COVID-19-TweetIDs\n",
    "# We used their instructions to rehydrate the tweets from 31/01/2020 and placed it into covid19.jsonl"
   ]
  },
  {
   "cell_type": "code",
   "execution_count": 2,
   "metadata": {
    "slideshow": {
     "slide_type": "fragment"
    }
   },
   "outputs": [
    {
     "name": "stderr",
     "output_type": "stream",
     "text": [
      "Extracting raw tweets: 69602it [00:38, 1811.71it/s]\n",
      "Reformatting cascades: 100%|██████████| 26432/26432 [03:52<00:00, 113.71it/s]\n",
      "Loading Fasttext wiki-news-300d-1M.vec Word2Vec Embeddings: 100%|█████████▉| 999995/1000000 [01:09<00:00, 14346.17it/s]\n",
      "Processing hashtag entities: 100%|██████████| 60215/60215 [00:09<00:00, 6569.42it/s]\n",
      "Getting influence scores of users, with alpha of None, with time decay of -6.8e-05, with beta of 1.0: 100%|██████████| 26432/26432 [00:46<00:00, 568.46it/s]\n"
     ]
    },
    {
     "data": {
      "text/html": [
       "<div>\n",
       "<style scoped>\n",
       "    .dataframe tbody tr th:only-of-type {\n",
       "        vertical-align: middle;\n",
       "    }\n",
       "\n",
       "    .dataframe tbody tr th {\n",
       "        vertical-align: top;\n",
       "    }\n",
       "\n",
       "    .dataframe thead th {\n",
       "        text-align: right;\n",
       "    }\n",
       "</style>\n",
       "<table border=\"1\" class=\"dataframe\">\n",
       "  <thead>\n",
       "    <tr style=\"text-align: right;\">\n",
       "      <th></th>\n",
       "      <th>botness</th>\n",
       "      <th>influence</th>\n",
       "    </tr>\n",
       "    <tr>\n",
       "      <th>user_id</th>\n",
       "      <th></th>\n",
       "      <th></th>\n",
       "    </tr>\n",
       "  </thead>\n",
       "  <tbody>\n",
       "    <tr>\n",
       "      <th>91949741</th>\n",
       "      <td>0.529995</td>\n",
       "      <td>2.091979</td>\n",
       "    </tr>\n",
       "    <tr>\n",
       "      <th>4729048340</th>\n",
       "      <td>0.928066</td>\n",
       "      <td>9.274051</td>\n",
       "    </tr>\n",
       "    <tr>\n",
       "      <th>960714213701296128</th>\n",
       "      <td>0.523479</td>\n",
       "      <td>1.000000</td>\n",
       "    </tr>\n",
       "    <tr>\n",
       "      <th>2528406049</th>\n",
       "      <td>0.636416</td>\n",
       "      <td>2.000000</td>\n",
       "    </tr>\n",
       "    <tr>\n",
       "      <th>429795088</th>\n",
       "      <td>0.193119</td>\n",
       "      <td>2.049589</td>\n",
       "    </tr>\n",
       "    <tr>\n",
       "      <th>...</th>\n",
       "      <td>...</td>\n",
       "      <td>...</td>\n",
       "    </tr>\n",
       "    <tr>\n",
       "      <th>893417849477189632</th>\n",
       "      <td>0.750351</td>\n",
       "      <td>59.622543</td>\n",
       "    </tr>\n",
       "    <tr>\n",
       "      <th>57885560</th>\n",
       "      <td>0.113908</td>\n",
       "      <td>34.600000</td>\n",
       "    </tr>\n",
       "    <tr>\n",
       "      <th>1855031052</th>\n",
       "      <td>0.464147</td>\n",
       "      <td>1.575676</td>\n",
       "    </tr>\n",
       "    <tr>\n",
       "      <th>33519870</th>\n",
       "      <td>0.000441</td>\n",
       "      <td>40.800000</td>\n",
       "    </tr>\n",
       "    <tr>\n",
       "      <th>221765191</th>\n",
       "      <td>0.437886</td>\n",
       "      <td>1.000000</td>\n",
       "    </tr>\n",
       "  </tbody>\n",
       "</table>\n",
       "<p>60215 rows × 2 columns</p>\n",
       "</div>"
      ],
      "text/plain": [
       "                     botness  influence\n",
       "user_id                                \n",
       "91949741            0.529995   2.091979\n",
       "4729048340          0.928066   9.274051\n",
       "960714213701296128  0.523479   1.000000\n",
       "2528406049          0.636416   2.000000\n",
       "429795088           0.193119   2.049589\n",
       "...                      ...        ...\n",
       "893417849477189632  0.750351  59.622543\n",
       "57885560            0.113908  34.600000\n",
       "1855031052          0.464147   1.575676\n",
       "33519870            0.000441  40.800000\n",
       "221765191           0.437886   1.000000\n",
       "\n",
       "[60215 rows x 2 columns]"
      ]
     },
     "execution_count": 2,
     "metadata": {},
     "output_type": "execute_result"
    }
   ],
   "source": [
    "from birdspotter import BirdSpotter ## Import birdspotter\n",
    "\n",
    "bs = BirdSpotter('covid19.jsonl') ## Extracts the tweets from the raw jsonl [https://github.com/echen102/COVID-19-TweetIDs]\n",
    "bs.getLabeledUsers() ## Uses the default bot labeller and influence quantification systems\n",
    "bs.getCascadesDataFrame() ## Formats the retweet cascades, such that expected retweet structures can extracted\n",
    "bs.featureDataframe[['botness', 'influence']]"
   ]
  },
  {
   "cell_type": "code",
   "execution_count": 3,
   "metadata": {
    "slideshow": {
     "slide_type": "slide"
    }
   },
   "outputs": [
    {
     "data": {
      "image/png": "[encoded data removed]",
      "text/plain": [
       "<Figure size 842.4x595.44 with 2 Axes>"
      ]
     },
     "metadata": {},
     "output_type": "display_data"
    }
   ],
   "source": [
    "fig, ax =plt.subplots(1,2)\n",
    "botness_dist = sns.histplot(data=bs.featureDataframe, x=\"botness\", ax=ax[0])\n",
    "influence_eccdf = sns.ecdfplot(data=bs.featureDataframe, x=\"influence\", complementary=True, ax=ax[1]).set(xscale=\"log\", yscale=\"log\")\n",
    "fig.show()"
   ]
  },
  {
   "cell_type": "markdown",
   "metadata": {
    "slideshow": {
     "slide_type": "notes"
    }
   },
   "source": [
    "* botness shows several humans and bots\n",
    "* influence shows long-tail signature, a.k.a. rich-gets-richer, where a minority hold a significant influence"
   ]
  },
  {
   "cell_type": "markdown",
   "metadata": {
    "slideshow": {
     "slide_type": "fragment"
    }
   },
   "source": [
    "[birdspotter.ml](http://birdspotter.ml/?uid=20986375)"
   ]
  },
  {
   "cell_type": "markdown",
   "metadata": {
    "slideshow": {
     "slide_type": "notes"
    }
   },
   "source": [
    "- explain the plot\n",
    "- explain what the plot shows\n",
    "- explore the data\n",
    "- show how the explored data fits a narrative\n",
    "\n",
    "bot: http://localhost:8050/?uid=1092530860618907653"
   ]
  },
  {
   "cell_type": "markdown",
   "metadata": {
    "slideshow": {
     "slide_type": "slide"
    }
   },
   "source": [
    "## Customising `birdspotter` for broader use-cases"
   ]
  },
  {
   "cell_type": "markdown",
   "metadata": {
    "slideshow": {
     "slide_type": "notes"
    }
   },
   "source": [
    "- the complex nature of online phenomena, demand diverse analyses \n",
    "- researchers desirce view data different lenses\n",
    "- show blah\n",
    "- show use public dataset, detect political leaning"
   ]
  },
  {
   "cell_type": "markdown",
   "metadata": {
    "slideshow": {
     "slide_type": "fragment"
    }
   },
   "source": [
    "1. We hydrate some tweets from the Twitter Parlimentarian Database"
   ]
  },
  {
   "cell_type": "raw",
   "metadata": {
    "slideshow": {
     "slide_type": "fragment"
    }
   },
   "source": [
    "!pip install twarc\n",
    "!wget http://twitterpoliticians.org./downloads/base/all_tweet_ids.csv\n",
    "!twarc hydrate all_tweet_ids.csv > tweets.jsonl"
   ]
  },
  {
   "cell_type": "markdown",
   "metadata": {
    "slideshow": {
     "slide_type": "fragment"
    }
   },
   "source": [
    "2. We filter the tweets to include only **Australian Politicians**.\n",
    "3. We **label right-wing partied politicians positively**, and others negatively (with `bs_pol.getBotAnnotationTemplate` for example)\n",
    "4. We **retrain `birdspotter`** with these new labels and label all users (i.e. including users the politicians retweeted) using the new model"
   ]
  },
  {
   "cell_type": "markdown",
   "metadata": {
    "slideshow": {
     "slide_type": "subslide"
    }
   },
   "source": [
    "## Customising `birdspotter` for broader use-cases"
   ]
  },
  {
   "cell_type": "code",
   "execution_count": null,
   "metadata": {
    "slideshow": {
     "slide_type": "skip"
    }
   },
   "outputs": [],
   "source": [
    "# This is the guts of the code; it does what is described above\n",
    "politicians = pd.read_csv('./full_member_info.csv', encoding='utf16')\n",
    "politicians_aus = politicians[politicians['country'] == 'Australia']\n",
    "politicians_aus_available = politicians_aus[~politicians_aus['uid'].isnull()]\n",
    "\n",
    "def classify_party(party_id):\n",
    "    mapping = {\n",
    "        464 : 1, # Liberal Party of Australia\n",
    "        465 : -1, # Australian Labor Party\n",
    "        467 : 1, # The Nationals\n",
    "        468 : 0, # Nick Xenophon Team\n",
    "        469 : -1, # Australian Greens\n",
    "        471 : np.nan,\n",
    "        475 : 1, # Katter's Australian Party\n",
    "    }\n",
    "    return mapping[party_id]\n",
    "\n",
    "politicians_aus_available['isright'] = politicians_aus_available['party_id'].apply(classify_party)\n",
    "politicians_aus_available['user_id'] = politicians_aus_available['uid'].astype(int).astype(str)\n",
    "politicians_aus_available = politicians_aus_available.set_index('user_id')\n",
    "\n",
    "with open('./tweets.jsonl', 'r') as rf, open('./aus_tweets.jsonl', 'w') as wf:\n",
    "    for line in tqdm(rf):\n",
    "        try:\n",
    "            j = json.loads(line)\n",
    "            if j['user']['id_str'] in politicians_aus_available['uid'].astype(int).astype(str).values:\n",
    "                wf.write(json.dumps(j) + '\\n')\n",
    "        except Exception as e:\n",
    "            print(j)\n",
    "            print(e)\n",
    "            break\n",
    "            \n",
    "bs = BirdSpotter('aus_tweets.jsonl')\n",
    "bs.getLabeledUsers()\n",
    "bs.getCascadesDataFrame()\n",
    "\n",
    "with open('bs_aus_module.pk', 'wb') as wf:\n",
    "    pk.dump(bs,wf, protocol=4)\n",
    "\n",
    "bs.featureDataframe['isright'] = politicians_aus_available['isright']\n",
    "\n",
    "ground_truth = bs.featureDataframe[~bs.featureDataframe['isright'].isnull()][['isright']]\n",
    "ground_truth['isbot'] = ground_truth['isright'] == 1\n",
    "ground_truth = ground_truth[~ground_truth.index.duplicated()]\n",
    "\n",
    "data = bs.featureDataframe.copy()[bs.featureDataframe.index.isin(ground_truth.index)]\n",
    "data = data[~data.index.duplicated()]\n",
    "del data['isright']\n",
    "del data['botness']\n",
    "del data['influence']\n",
    "del data['cascade_membership']\n",
    "data = data[list(data.columns[data.dtypes != 'object'])]\n",
    "data['isbot'] = ground_truth['isbot'].loc[data.index]\n",
    "\n",
    "with open('pol_training_data.pickle', 'wb') as wf:\n",
    "        pk.dump(data,wf, protocol=4)\n",
    "        \n",
    "from birdspotter import BirdSpotter\n",
    "import pickle as pk\n",
    "\n",
    "# bs_pol = BirdSpotter('aus_tweets.jsonl')\n",
    "\n",
    "with open('bs_aus_module.pk', 'rb') as rf:\n",
    "    bs_pol = pk.load(rf)\n",
    "print(\"Loaded module\")\n",
    "bs_pol.trainClassifierModel('pol_training_data.pickle')\n",
    "print(\"finished training\")\n",
    "del bs_pol.featureDataframe['botness']\n",
    "print(\"removed botness column\")\n",
    "bs_pol.getBotness()\n",
    "bs_pol.getLabeledUsers()\n",
    "print(\"got labels\")\n",
    "\n",
    "with open('pol_booster.pickle', 'wb') as wf:\n",
    "    pk.dump(bs_pol.booster, wf, protocol=4)\n",
    "print(\"pickled booster\")\n",
    "with open('aus_pol_bs_module.pickle', 'wb') as wf:\n",
    "    pk.dump(bs_pol, wf, protocol=4)\n",
    "        \n",
    "with open('pol_booster.pickle', 'wb') as wf:\n",
    "        pk.dump(bs.booster, wf, protocol=4)"
   ]
  },
  {
   "cell_type": "code",
   "execution_count": 23,
   "metadata": {
    "slideshow": {
     "slide_type": "skip"
    }
   },
   "outputs": [],
   "source": [
    "import pickle as pk\n",
    "with open('aus_pol_bs_module.pickle', 'rb') as rf:\n",
    "    bs_pol = pk.load(rf)"
   ]
  },
  {
   "cell_type": "code",
   "execution_count": 4,
   "metadata": {
    "slideshow": {
     "slide_type": "fragment"
    }
   },
   "outputs": [
    {
     "name": "stderr",
     "output_type": "stream",
     "text": [
      "Extracting raw tweets: 127499it [01:06, 1929.30it/s]\n",
      "Reformatting cascades: 100%|██████████| 105063/105063 [50:42<00:00, 34.53it/s] \n",
      "Loading Fasttext wiki-news-300d-1M.vec Word2Vec Embeddings: 100%|█████████▉| 999995/1000000 [01:10<00:00, 14256.29it/s]\n",
      "Processing hashtag entities: 100%|██████████| 7693/7693 [00:01<00:00, 5832.88it/s]\n",
      "Getting influence scores of users, with alpha of None, with time decay of -6.8e-05, with beta of 1.0: 100%|██████████| 105063/105063 [02:22<00:00, 735.71it/s]\n"
     ]
    },
    {
     "data": {
      "text/html": [
       "<div>\n",
       "<style scoped>\n",
       "    .dataframe tbody tr th:only-of-type {\n",
       "        vertical-align: middle;\n",
       "    }\n",
       "\n",
       "    .dataframe tbody tr th {\n",
       "        vertical-align: top;\n",
       "    }\n",
       "\n",
       "    .dataframe thead th {\n",
       "        text-align: right;\n",
       "    }\n",
       "</style>\n",
       "<table border=\"1\" class=\"dataframe\">\n",
       "  <thead>\n",
       "    <tr style=\"text-align: right;\">\n",
       "      <th></th>\n",
       "      <th>screen_name</th>\n",
       "      <th>url</th>\n",
       "      <th>description</th>\n",
       "      <th>followers_count</th>\n",
       "      <th>name_n_chars</th>\n",
       "      <th>name_n_commas</th>\n",
       "      <th>name_n_digits</th>\n",
       "      <th>name_n_exclaims</th>\n",
       "      <th>name_n_extraspaces</th>\n",
       "      <th>name_n_hashtags</th>\n",
       "      <th>...</th>\n",
       "      <th>ww2_hashtag</th>\n",
       "      <th>wwii_hashtag</th>\n",
       "      <th>wyndham_hashtag</th>\n",
       "      <th>yearofthedog_hashtag</th>\n",
       "      <th>yearofthepig_hashtag</th>\n",
       "      <th>young_hashtag</th>\n",
       "      <th>youradf_hashtag</th>\n",
       "      <th>botness</th>\n",
       "      <th>influence</th>\n",
       "      <th>cascade_membership</th>\n",
       "    </tr>\n",
       "    <tr>\n",
       "      <th>user_id</th>\n",
       "      <th></th>\n",
       "      <th></th>\n",
       "      <th></th>\n",
       "      <th></th>\n",
       "      <th></th>\n",
       "      <th></th>\n",
       "      <th></th>\n",
       "      <th></th>\n",
       "      <th></th>\n",
       "      <th></th>\n",
       "      <th></th>\n",
       "      <th></th>\n",
       "      <th></th>\n",
       "      <th></th>\n",
       "      <th></th>\n",
       "      <th></th>\n",
       "      <th></th>\n",
       "      <th></th>\n",
       "      <th></th>\n",
       "      <th></th>\n",
       "      <th></th>\n",
       "    </tr>\n",
       "  </thead>\n",
       "  <tbody>\n",
       "    <tr>\n",
       "      <th>1896534804</th>\n",
       "      <td>tmcrumpet</td>\n",
       "      <td>https://pbs.twimg.com/profile_images/471236373...</td>\n",
       "      <td>'We're a virus with shoes'\\n - Bill Hicks</td>\n",
       "      <td>470</td>\n",
       "      <td>18</td>\n",
       "      <td>0</td>\n",
       "      <td>0</td>\n",
       "      <td>0</td>\n",
       "      <td>0</td>\n",
       "      <td>0</td>\n",
       "      <td>...</td>\n",
       "      <td>0.000000</td>\n",
       "      <td>0.000000</td>\n",
       "      <td>0.0</td>\n",
       "      <td>0.000000</td>\n",
       "      <td>0.000000</td>\n",
       "      <td>0.0</td>\n",
       "      <td>0.000000</td>\n",
       "      <td>0.174917</td>\n",
       "      <td>2.000000</td>\n",
       "      <td>[950195267734654978]</td>\n",
       "    </tr>\n",
       "    <tr>\n",
       "      <th>25195270</th>\n",
       "      <td>finmusings</td>\n",
       "      <td>https://pbs.twimg.com/profile_images/948122169...</td>\n",
       "      <td>Finance Lecturer at University of Queensland</td>\n",
       "      <td>230</td>\n",
       "      <td>12</td>\n",
       "      <td>0</td>\n",
       "      <td>0</td>\n",
       "      <td>0</td>\n",
       "      <td>1</td>\n",
       "      <td>0</td>\n",
       "      <td>...</td>\n",
       "      <td>0.000000</td>\n",
       "      <td>0.000000</td>\n",
       "      <td>0.0</td>\n",
       "      <td>0.000000</td>\n",
       "      <td>0.000000</td>\n",
       "      <td>0.0</td>\n",
       "      <td>0.000000</td>\n",
       "      <td>0.687339</td>\n",
       "      <td>2.000000</td>\n",
       "      <td>[950511689908105216]</td>\n",
       "    </tr>\n",
       "    <tr>\n",
       "      <th>2560220742</th>\n",
       "      <td>Indigistream</td>\n",
       "      <td>https://pbs.twimg.com/profile_images/880249960...</td>\n",
       "      <td>Indigistream focuses on Indigenous content &amp; m...</td>\n",
       "      <td>2146</td>\n",
       "      <td>12</td>\n",
       "      <td>0</td>\n",
       "      <td>0</td>\n",
       "      <td>0</td>\n",
       "      <td>0</td>\n",
       "      <td>0</td>\n",
       "      <td>...</td>\n",
       "      <td>0.000000</td>\n",
       "      <td>0.000000</td>\n",
       "      <td>0.0</td>\n",
       "      <td>0.000000</td>\n",
       "      <td>0.000000</td>\n",
       "      <td>0.0</td>\n",
       "      <td>0.000000</td>\n",
       "      <td>0.858766</td>\n",
       "      <td>2.000000</td>\n",
       "      <td>[950521071324741632]</td>\n",
       "    </tr>\n",
       "    <tr>\n",
       "      <th>272308804</th>\n",
       "      <td>familblanc</td>\n",
       "      <td>https://pbs.twimg.com/profile_images/962887873...</td>\n",
       "      <td>Another MAMIL doing the daily commute. Life is...</td>\n",
       "      <td>228</td>\n",
       "      <td>14</td>\n",
       "      <td>0</td>\n",
       "      <td>0</td>\n",
       "      <td>0</td>\n",
       "      <td>1</td>\n",
       "      <td>0</td>\n",
       "      <td>...</td>\n",
       "      <td>0.000000</td>\n",
       "      <td>0.000000</td>\n",
       "      <td>0.0</td>\n",
       "      <td>0.000000</td>\n",
       "      <td>0.000000</td>\n",
       "      <td>0.0</td>\n",
       "      <td>0.000000</td>\n",
       "      <td>0.137216</td>\n",
       "      <td>2.000000</td>\n",
       "      <td>[950621352741842944]</td>\n",
       "    </tr>\n",
       "    <tr>\n",
       "      <th>795813804562972672</th>\n",
       "      <td>HappyNacho73</td>\n",
       "      <td>https://pbs.twimg.com/profile_images/795816072...</td>\n",
       "      <td>Learnt English from the streets ... ‘Sesame St...</td>\n",
       "      <td>1475</td>\n",
       "      <td>8</td>\n",
       "      <td>0</td>\n",
       "      <td>0</td>\n",
       "      <td>0</td>\n",
       "      <td>1</td>\n",
       "      <td>0</td>\n",
       "      <td>...</td>\n",
       "      <td>0.000000</td>\n",
       "      <td>0.000000</td>\n",
       "      <td>0.0</td>\n",
       "      <td>0.000000</td>\n",
       "      <td>0.000000</td>\n",
       "      <td>0.0</td>\n",
       "      <td>0.000000</td>\n",
       "      <td>0.246105</td>\n",
       "      <td>2.000000</td>\n",
       "      <td>[950563125744447488]</td>\n",
       "    </tr>\n",
       "    <tr>\n",
       "      <th>...</th>\n",
       "      <td>...</td>\n",
       "      <td>...</td>\n",
       "      <td>...</td>\n",
       "      <td>...</td>\n",
       "      <td>...</td>\n",
       "      <td>...</td>\n",
       "      <td>...</td>\n",
       "      <td>...</td>\n",
       "      <td>...</td>\n",
       "      <td>...</td>\n",
       "      <td>...</td>\n",
       "      <td>...</td>\n",
       "      <td>...</td>\n",
       "      <td>...</td>\n",
       "      <td>...</td>\n",
       "      <td>...</td>\n",
       "      <td>...</td>\n",
       "      <td>...</td>\n",
       "      <td>...</td>\n",
       "      <td>...</td>\n",
       "      <td>...</td>\n",
       "    </tr>\n",
       "    <tr>\n",
       "      <th>117717402</th>\n",
       "      <td>ShayneNeumannMP</td>\n",
       "      <td>https://pbs.twimg.com/profile_images/626195190...</td>\n",
       "      <td>Federal Member for Blair. Shadow Minister for ...</td>\n",
       "      <td>11011</td>\n",
       "      <td>14</td>\n",
       "      <td>0</td>\n",
       "      <td>0</td>\n",
       "      <td>0</td>\n",
       "      <td>1</td>\n",
       "      <td>0</td>\n",
       "      <td>...</td>\n",
       "      <td>0.021003</td>\n",
       "      <td>0.000000</td>\n",
       "      <td>0.0</td>\n",
       "      <td>0.000000</td>\n",
       "      <td>0.000000</td>\n",
       "      <td>0.0</td>\n",
       "      <td>0.000000</td>\n",
       "      <td>0.000191</td>\n",
       "      <td>1.169122</td>\n",
       "      <td>[1000186211703533568, 1000206601947561984, 100...</td>\n",
       "    </tr>\n",
       "    <tr>\n",
       "      <th>88859872</th>\n",
       "      <td>JasonClareMP</td>\n",
       "      <td>https://pbs.twimg.com/profile_images/126515724...</td>\n",
       "      <td>Jack's dad. Louise's husband. MP.  Cricket Tra...</td>\n",
       "      <td>32286</td>\n",
       "      <td>14</td>\n",
       "      <td>0</td>\n",
       "      <td>0</td>\n",
       "      <td>0</td>\n",
       "      <td>2</td>\n",
       "      <td>0</td>\n",
       "      <td>...</td>\n",
       "      <td>0.000000</td>\n",
       "      <td>0.000000</td>\n",
       "      <td>0.0</td>\n",
       "      <td>0.000000</td>\n",
       "      <td>0.015273</td>\n",
       "      <td>0.0</td>\n",
       "      <td>0.000000</td>\n",
       "      <td>0.000182</td>\n",
       "      <td>1.269216</td>\n",
       "      <td>[1001130985407201280, 1001344106071707648, 100...</td>\n",
       "    </tr>\n",
       "    <tr>\n",
       "      <th>251976625</th>\n",
       "      <td>GrahamPerrettMP</td>\n",
       "      <td>https://pbs.twimg.com/profile_images/124389313...</td>\n",
       "      <td>MP Moreton &amp; Shadow Assistant Minister Educati...</td>\n",
       "      <td>14834</td>\n",
       "      <td>14</td>\n",
       "      <td>0</td>\n",
       "      <td>0</td>\n",
       "      <td>0</td>\n",
       "      <td>1</td>\n",
       "      <td>0</td>\n",
       "      <td>...</td>\n",
       "      <td>0.000000</td>\n",
       "      <td>0.001609</td>\n",
       "      <td>0.0</td>\n",
       "      <td>0.003058</td>\n",
       "      <td>0.001705</td>\n",
       "      <td>0.0</td>\n",
       "      <td>0.001308</td>\n",
       "      <td>0.000332</td>\n",
       "      <td>1.068009</td>\n",
       "      <td>[1000108077943701504, 1000125151357255681, 100...</td>\n",
       "    </tr>\n",
       "    <tr>\n",
       "      <th>2458912866</th>\n",
       "      <td>DuncanPeggMP</td>\n",
       "      <td>https://pbs.twimg.com/profile_images/134682387...</td>\n",
       "      <td>MP for Stretton. Twitter Poll Expert. No cowar...</td>\n",
       "      <td>2204</td>\n",
       "      <td>14</td>\n",
       "      <td>0</td>\n",
       "      <td>0</td>\n",
       "      <td>0</td>\n",
       "      <td>2</td>\n",
       "      <td>0</td>\n",
       "      <td>...</td>\n",
       "      <td>0.000000</td>\n",
       "      <td>0.000000</td>\n",
       "      <td>0.0</td>\n",
       "      <td>0.000000</td>\n",
       "      <td>0.000000</td>\n",
       "      <td>0.0</td>\n",
       "      <td>0.000000</td>\n",
       "      <td>0.000329</td>\n",
       "      <td>2.035714</td>\n",
       "      <td>[1002799667438993408, 1010378865884028928, 101...</td>\n",
       "    </tr>\n",
       "    <tr>\n",
       "      <th>49499855</th>\n",
       "      <td>AndrewLamingMP</td>\n",
       "      <td>https://pbs.twimg.com/profile_images/105303895...</td>\n",
       "      <td>https://t.co/Ht1XJNO1q8 Pollie, eye guy, lapse...</td>\n",
       "      <td>7830</td>\n",
       "      <td>13</td>\n",
       "      <td>0</td>\n",
       "      <td>0</td>\n",
       "      <td>0</td>\n",
       "      <td>1</td>\n",
       "      <td>0</td>\n",
       "      <td>...</td>\n",
       "      <td>0.000000</td>\n",
       "      <td>0.000000</td>\n",
       "      <td>0.0</td>\n",
       "      <td>0.000000</td>\n",
       "      <td>0.000000</td>\n",
       "      <td>0.0</td>\n",
       "      <td>0.000000</td>\n",
       "      <td>0.000516</td>\n",
       "      <td>1.002681</td>\n",
       "      <td>[1000530669620027393, 1000653183318872064, 100...</td>\n",
       "    </tr>\n",
       "  </tbody>\n",
       "</table>\n",
       "<p>7693 rows × 1698 columns</p>\n",
       "</div>"
      ],
      "text/plain": [
       "                        screen_name  \\\n",
       "user_id                               \n",
       "1896534804                tmcrumpet   \n",
       "25195270                 finmusings   \n",
       "2560220742             Indigistream   \n",
       "272308804                familblanc   \n",
       "795813804562972672     HappyNacho73   \n",
       "...                             ...   \n",
       "117717402           ShayneNeumannMP   \n",
       "88859872               JasonClareMP   \n",
       "251976625           GrahamPerrettMP   \n",
       "2458912866             DuncanPeggMP   \n",
       "49499855             AndrewLamingMP   \n",
       "\n",
       "                                                                  url  \\\n",
       "user_id                                                                 \n",
       "1896534804          https://pbs.twimg.com/profile_images/471236373...   \n",
       "25195270            https://pbs.twimg.com/profile_images/948122169...   \n",
       "2560220742          https://pbs.twimg.com/profile_images/880249960...   \n",
       "272308804           https://pbs.twimg.com/profile_images/962887873...   \n",
       "795813804562972672  https://pbs.twimg.com/profile_images/795816072...   \n",
       "...                                                               ...   \n",
       "117717402           https://pbs.twimg.com/profile_images/626195190...   \n",
       "88859872            https://pbs.twimg.com/profile_images/126515724...   \n",
       "251976625           https://pbs.twimg.com/profile_images/124389313...   \n",
       "2458912866          https://pbs.twimg.com/profile_images/134682387...   \n",
       "49499855            https://pbs.twimg.com/profile_images/105303895...   \n",
       "\n",
       "                                                          description  \\\n",
       "user_id                                                                 \n",
       "1896534804                  'We're a virus with shoes'\\n - Bill Hicks   \n",
       "25195270                 Finance Lecturer at University of Queensland   \n",
       "2560220742          Indigistream focuses on Indigenous content & m...   \n",
       "272308804           Another MAMIL doing the daily commute. Life is...   \n",
       "795813804562972672  Learnt English from the streets ... ‘Sesame St...   \n",
       "...                                                               ...   \n",
       "117717402           Federal Member for Blair. Shadow Minister for ...   \n",
       "88859872            Jack's dad. Louise's husband. MP.  Cricket Tra...   \n",
       "251976625           MP Moreton & Shadow Assistant Minister Educati...   \n",
       "2458912866          MP for Stretton. Twitter Poll Expert. No cowar...   \n",
       "49499855            https://t.co/Ht1XJNO1q8 Pollie, eye guy, lapse...   \n",
       "\n",
       "                    followers_count  name_n_chars  name_n_commas  \\\n",
       "user_id                                                            \n",
       "1896534804                      470            18              0   \n",
       "25195270                        230            12              0   \n",
       "2560220742                     2146            12              0   \n",
       "272308804                       228            14              0   \n",
       "795813804562972672             1475             8              0   \n",
       "...                             ...           ...            ...   \n",
       "117717402                     11011            14              0   \n",
       "88859872                      32286            14              0   \n",
       "251976625                     14834            14              0   \n",
       "2458912866                     2204            14              0   \n",
       "49499855                       7830            13              0   \n",
       "\n",
       "                    name_n_digits  name_n_exclaims  name_n_extraspaces  \\\n",
       "user_id                                                                  \n",
       "1896534804                      0                0                   0   \n",
       "25195270                        0                0                   1   \n",
       "2560220742                      0                0                   0   \n",
       "272308804                       0                0                   1   \n",
       "795813804562972672              0                0                   1   \n",
       "...                           ...              ...                 ...   \n",
       "117717402                       0                0                   1   \n",
       "88859872                        0                0                   2   \n",
       "251976625                       0                0                   1   \n",
       "2458912866                      0                0                   2   \n",
       "49499855                        0                0                   1   \n",
       "\n",
       "                    name_n_hashtags  ...  ww2_hashtag  wwii_hashtag  \\\n",
       "user_id                              ...                              \n",
       "1896534804                        0  ...     0.000000      0.000000   \n",
       "25195270                          0  ...     0.000000      0.000000   \n",
       "2560220742                        0  ...     0.000000      0.000000   \n",
       "272308804                         0  ...     0.000000      0.000000   \n",
       "795813804562972672                0  ...     0.000000      0.000000   \n",
       "...                             ...  ...          ...           ...   \n",
       "117717402                         0  ...     0.021003      0.000000   \n",
       "88859872                          0  ...     0.000000      0.000000   \n",
       "251976625                         0  ...     0.000000      0.001609   \n",
       "2458912866                        0  ...     0.000000      0.000000   \n",
       "49499855                          0  ...     0.000000      0.000000   \n",
       "\n",
       "                    wyndham_hashtag  yearofthedog_hashtag  \\\n",
       "user_id                                                     \n",
       "1896534804                      0.0              0.000000   \n",
       "25195270                        0.0              0.000000   \n",
       "2560220742                      0.0              0.000000   \n",
       "272308804                       0.0              0.000000   \n",
       "795813804562972672              0.0              0.000000   \n",
       "...                             ...                   ...   \n",
       "117717402                       0.0              0.000000   \n",
       "88859872                        0.0              0.000000   \n",
       "251976625                       0.0              0.003058   \n",
       "2458912866                      0.0              0.000000   \n",
       "49499855                        0.0              0.000000   \n",
       "\n",
       "                    yearofthepig_hashtag  young_hashtag  youradf_hashtag  \\\n",
       "user_id                                                                    \n",
       "1896534804                      0.000000            0.0         0.000000   \n",
       "25195270                        0.000000            0.0         0.000000   \n",
       "2560220742                      0.000000            0.0         0.000000   \n",
       "272308804                       0.000000            0.0         0.000000   \n",
       "795813804562972672              0.000000            0.0         0.000000   \n",
       "...                                  ...            ...              ...   \n",
       "117717402                       0.000000            0.0         0.000000   \n",
       "88859872                        0.015273            0.0         0.000000   \n",
       "251976625                       0.001705            0.0         0.001308   \n",
       "2458912866                      0.000000            0.0         0.000000   \n",
       "49499855                        0.000000            0.0         0.000000   \n",
       "\n",
       "                     botness  influence  \\\n",
       "user_id                                   \n",
       "1896534804          0.174917   2.000000   \n",
       "25195270            0.687339   2.000000   \n",
       "2560220742          0.858766   2.000000   \n",
       "272308804           0.137216   2.000000   \n",
       "795813804562972672  0.246105   2.000000   \n",
       "...                      ...        ...   \n",
       "117717402           0.000191   1.169122   \n",
       "88859872            0.000182   1.269216   \n",
       "251976625           0.000332   1.068009   \n",
       "2458912866          0.000329   2.035714   \n",
       "49499855            0.000516   1.002681   \n",
       "\n",
       "                                                   cascade_membership  \n",
       "user_id                                                                \n",
       "1896534804                                       [950195267734654978]  \n",
       "25195270                                         [950511689908105216]  \n",
       "2560220742                                       [950521071324741632]  \n",
       "272308804                                        [950621352741842944]  \n",
       "795813804562972672                               [950563125744447488]  \n",
       "...                                                               ...  \n",
       "117717402           [1000186211703533568, 1000206601947561984, 100...  \n",
       "88859872            [1001130985407201280, 1001344106071707648, 100...  \n",
       "251976625           [1000108077943701504, 1000125151357255681, 100...  \n",
       "2458912866          [1002799667438993408, 1010378865884028928, 101...  \n",
       "49499855            [1000530669620027393, 1000653183318872064, 100...  \n",
       "\n",
       "[7693 rows x 1698 columns]"
      ]
     },
     "execution_count": 4,
     "metadata": {},
     "output_type": "execute_result"
    }
   ],
   "source": [
    "bs_pol = BirdSpotter('aus_tweets.jsonl')\n",
    "# bs_pol.trainClassifierModel('pol_training_data.pickle')\n",
    "bs_pol.loadPickledBooster('pol_booster.pickle')\n",
    "bs_pol.getLabeledUsers()"
   ]
  },
  {
   "cell_type": "markdown",
   "metadata": {
    "slideshow": {
     "slide_type": "slide"
    }
   },
   "source": [
    "## Results\n",
    "***\n",
    "On this limited dataset, a 10-fold CV of <code>birdspotter</code> garners an average AUC (Area under ROC) of 0.986."
   ]
  },
  {
   "cell_type": "markdown",
   "metadata": {
    "slideshow": {
     "slide_type": "fragment"
    }
   },
   "source": [
    "##### Lefties\n",
    "<div class=\"mytricontainer\">\n",
    "    <div class=\"mydiv\">\n",
    "        <h5>Katharine Murphy</h5>\n",
    "        <span> Score = 0.231608</span>\n",
    "        <div class=\"myimg\">\n",
    "        <img class=\"myimg\" src=\"https://pbs.twimg.com/profile_images/687958069733494784/1SUBcHBJ_400x400.jpg\" width=\"200\"/>\n",
    "        </div>\n",
    "        <span>Guardian Journalist (a left-leaning news organisation).</span>\n",
    "    </div>\n",
    "    <div class=\"mydiv\">\n",
    "        <h5>Josh Taylor</h5>\n",
    "        <span> Score = 0.232707</span>\n",
    "        <img class=\"myimg\" src=\"https://pbs.twimg.com/profile_images/1255254018147987457/vuvJbsoJ_400x400.jpg\" width=\"200\"/>\n",
    "        <span>Guardian Reporter (a left-leaning news organisation).</span>\n",
    "    </div>\n",
    "    <div class=\"mydiv\">\n",
    "        <h5>Shorten Suite</h5>\n",
    "        <span> Score = 0.237657</span>\n",
    "        <img class=\"myimg\" src=\"https://pbs.twimg.com/profile_images/882886962754895873/Ya_ZZwIV_400x400.jpg\" width=\"200\"/>\n",
    "        <span>Tweets memes supporting Bill Shorten (Former ALP Leader)</span>\n",
    "    </div>\n",
    "</div>"
   ]
  },
  {
   "cell_type": "markdown",
   "metadata": {
    "slideshow": {
     "slide_type": "slide"
    }
   },
   "source": [
    "## Results\n",
    "***\n",
    "On this limited dataset, a 10-fold CV of <code>birdspotter</code> garners an average AUC (Area under ROC) of 0.986."
   ]
  },
  {
   "cell_type": "markdown",
   "metadata": {
    "slideshow": {
     "slide_type": "fragment"
    }
   },
   "source": [
    "##### Righties\n",
    "<div class=\"mytricontainer\">\n",
    "    <div class=\"mydiv\">\n",
    "        <h5>Gavan Macrides</h5>\n",
    "        <span> Score = 0.807822</span>\n",
    "        <div class=\"myimg\">\n",
    "        <img class=\"myimg\" src=\"https://pbs.twimg.com/profile_images/851294256547352576/_bYWJQwa_400x400.jpg\" width=\"200\"/>\n",
    "        </div>\n",
    "        <span>Former LNP Campaign Director</span>\n",
    "    </div>\n",
    "    <div class=\"mydiv\">\n",
    "        <h5>David O'Brien</h5>\n",
    "        <span> Score = 0.801732</span>\n",
    "        <img class=\"myimg\" src=\"https://pbs.twimg.com/profile_images/1134760668911902721/FSNPNM7s_400x400.png\" width=\"200\"/>\n",
    "        <span>Tweets about and supports conservative politicians, particularly the Nationals.</span>\n",
    "    </div>\n",
    "    <div class=\"mydiv\">\n",
    "        <h5>Minerals Council Australia</h5>\n",
    "        <span> Score = 0.797240</span>\n",
    "        <img class=\"myimg\" src=\"https://pbs.twimg.com/profile_images/595401078796980224/M1ZCxkuo_400x400.jpg\" width=\"200\"/>\n",
    "        <span>A group presenting the interests of the mining industry, who're typically right leaning.</span>\n",
    "    </div>\n",
    "</div>"
   ]
  },
  {
   "cell_type": "code",
   "execution_count": 46,
   "metadata": {
    "slideshow": {
     "slide_type": "subslide"
    }
   },
   "outputs": [
    {
     "data": {
      "text/html": [
       "<div>\n",
       "<style scoped>\n",
       "    .dataframe tbody tr th:only-of-type {\n",
       "        vertical-align: middle;\n",
       "    }\n",
       "\n",
       "    .dataframe tbody tr th {\n",
       "        vertical-align: top;\n",
       "    }\n",
       "\n",
       "    .dataframe thead th {\n",
       "        text-align: right;\n",
       "    }\n",
       "</style>\n",
       "<table border=\"1\" class=\"dataframe\">\n",
       "  <thead>\n",
       "    <tr style=\"text-align: right;\">\n",
       "      <th></th>\n",
       "      <th>screen_name</th>\n",
       "      <th>url</th>\n",
       "      <th>description</th>\n",
       "      <th>followers_count</th>\n",
       "      <th>name_n_chars</th>\n",
       "      <th>name_n_commas</th>\n",
       "      <th>name_n_digits</th>\n",
       "      <th>name_n_exclaims</th>\n",
       "      <th>name_n_extraspaces</th>\n",
       "      <th>name_n_hashtags</th>\n",
       "      <th>...</th>\n",
       "      <th>ww2_hashtag</th>\n",
       "      <th>wwii_hashtag</th>\n",
       "      <th>wyndham_hashtag</th>\n",
       "      <th>yearofthedog_hashtag</th>\n",
       "      <th>yearofthepig_hashtag</th>\n",
       "      <th>young_hashtag</th>\n",
       "      <th>youradf_hashtag</th>\n",
       "      <th>influence</th>\n",
       "      <th>cascade_membership</th>\n",
       "      <th>botness</th>\n",
       "    </tr>\n",
       "    <tr>\n",
       "      <th>user_id</th>\n",
       "      <th></th>\n",
       "      <th></th>\n",
       "      <th></th>\n",
       "      <th></th>\n",
       "      <th></th>\n",
       "      <th></th>\n",
       "      <th></th>\n",
       "      <th></th>\n",
       "      <th></th>\n",
       "      <th></th>\n",
       "      <th></th>\n",
       "      <th></th>\n",
       "      <th></th>\n",
       "      <th></th>\n",
       "      <th></th>\n",
       "      <th></th>\n",
       "      <th></th>\n",
       "      <th></th>\n",
       "      <th></th>\n",
       "      <th></th>\n",
       "      <th></th>\n",
       "    </tr>\n",
       "  </thead>\n",
       "  <tbody>\n",
       "    <tr>\n",
       "      <th>66917778</th>\n",
       "      <td>murpharoo</td>\n",
       "      <td>https://pbs.twimg.com/profile_images/687958069...</td>\n",
       "      <td>Political editor, GuardianAU. Traffic acquisit...</td>\n",
       "      <td>188145</td>\n",
       "      <td>16</td>\n",
       "      <td>0</td>\n",
       "      <td>0</td>\n",
       "      <td>0</td>\n",
       "      <td>1</td>\n",
       "      <td>0</td>\n",
       "      <td>...</td>\n",
       "      <td>0.0</td>\n",
       "      <td>0.0</td>\n",
       "      <td>0.0</td>\n",
       "      <td>0.0</td>\n",
       "      <td>0.0</td>\n",
       "      <td>0.0</td>\n",
       "      <td>0.0</td>\n",
       "      <td>2.481100</td>\n",
       "      <td>[1001328518578429953, 1001977458487382016, 100...</td>\n",
       "      <td>0.231608</td>\n",
       "    </tr>\n",
       "    <tr>\n",
       "      <th>13006932</th>\n",
       "      <td>joshgnosis</td>\n",
       "      <td>https://pbs.twimg.com/profile_images/125525401...</td>\n",
       "      <td>Reporter @GuardianAus. Tech, infosec, FOI, pol...</td>\n",
       "      <td>43969</td>\n",
       "      <td>11</td>\n",
       "      <td>0</td>\n",
       "      <td>0</td>\n",
       "      <td>0</td>\n",
       "      <td>1</td>\n",
       "      <td>0</td>\n",
       "      <td>...</td>\n",
       "      <td>0.0</td>\n",
       "      <td>0.0</td>\n",
       "      <td>0.0</td>\n",
       "      <td>0.0</td>\n",
       "      <td>0.0</td>\n",
       "      <td>0.0</td>\n",
       "      <td>0.0</td>\n",
       "      <td>2.090090</td>\n",
       "      <td>[1001948532205654023, 1001986330312740865, 100...</td>\n",
       "      <td>0.232707</td>\n",
       "    </tr>\n",
       "    <tr>\n",
       "      <th>3555381912</th>\n",
       "      <td>Shorten_Suite</td>\n",
       "      <td>https://pbs.twimg.com/profile_images/882886962...</td>\n",
       "      <td>Twitter Account of Bill Shorten's Elite Flak-C...</td>\n",
       "      <td>11499</td>\n",
       "      <td>15</td>\n",
       "      <td>0</td>\n",
       "      <td>0</td>\n",
       "      <td>0</td>\n",
       "      <td>2</td>\n",
       "      <td>0</td>\n",
       "      <td>...</td>\n",
       "      <td>0.0</td>\n",
       "      <td>0.0</td>\n",
       "      <td>0.0</td>\n",
       "      <td>0.0</td>\n",
       "      <td>0.0</td>\n",
       "      <td>0.0</td>\n",
       "      <td>0.0</td>\n",
       "      <td>2.499303</td>\n",
       "      <td>[1000217047651905541, 1001313684403048448, 100...</td>\n",
       "      <td>0.237657</td>\n",
       "    </tr>\n",
       "    <tr>\n",
       "      <th>2928206756</th>\n",
       "      <td>GavanMacrides</td>\n",
       "      <td>https://pbs.twimg.com/profile_images/851294256...</td>\n",
       "      <td></td>\n",
       "      <td>52</td>\n",
       "      <td>14</td>\n",
       "      <td>0</td>\n",
       "      <td>0</td>\n",
       "      <td>0</td>\n",
       "      <td>1</td>\n",
       "      <td>0</td>\n",
       "      <td>...</td>\n",
       "      <td>0.0</td>\n",
       "      <td>0.0</td>\n",
       "      <td>0.0</td>\n",
       "      <td>0.0</td>\n",
       "      <td>0.0</td>\n",
       "      <td>0.0</td>\n",
       "      <td>0.0</td>\n",
       "      <td>2.000000</td>\n",
       "      <td>[1056772859853340672, 1062448144846225409, 106...</td>\n",
       "      <td>0.807822</td>\n",
       "    </tr>\n",
       "    <tr>\n",
       "      <th>600822759</th>\n",
       "      <td>DavidOBrien70</td>\n",
       "      <td>https://pbs.twimg.com/profile_images/113476066...</td>\n",
       "      <td></td>\n",
       "      <td>657</td>\n",
       "      <td>13</td>\n",
       "      <td>0</td>\n",
       "      <td>0</td>\n",
       "      <td>0</td>\n",
       "      <td>1</td>\n",
       "      <td>0</td>\n",
       "      <td>...</td>\n",
       "      <td>0.0</td>\n",
       "      <td>0.0</td>\n",
       "      <td>0.0</td>\n",
       "      <td>0.0</td>\n",
       "      <td>0.0</td>\n",
       "      <td>0.0</td>\n",
       "      <td>0.0</td>\n",
       "      <td>2.000000</td>\n",
       "      <td>[1026064107676434432]</td>\n",
       "      <td>0.801732</td>\n",
       "    </tr>\n",
       "    <tr>\n",
       "      <th>739838958</th>\n",
       "      <td>MineralsCouncil</td>\n",
       "      <td>https://pbs.twimg.com/profile_images/595401078...</td>\n",
       "      <td>Official Twitter account for the Minerals Coun...</td>\n",
       "      <td>12381</td>\n",
       "      <td>19</td>\n",
       "      <td>0</td>\n",
       "      <td>0</td>\n",
       "      <td>0</td>\n",
       "      <td>0</td>\n",
       "      <td>0</td>\n",
       "      <td>...</td>\n",
       "      <td>0.0</td>\n",
       "      <td>0.0</td>\n",
       "      <td>0.0</td>\n",
       "      <td>0.0</td>\n",
       "      <td>0.0</td>\n",
       "      <td>0.0</td>\n",
       "      <td>0.0</td>\n",
       "      <td>2.000000</td>\n",
       "      <td>[1035760725199745024, 1095506034372730881, 109...</td>\n",
       "      <td>0.797240</td>\n",
       "    </tr>\n",
       "  </tbody>\n",
       "</table>\n",
       "<p>6 rows × 1698 columns</p>\n",
       "</div>"
      ],
      "text/plain": [
       "                screen_name  \\\n",
       "user_id                       \n",
       "66917778          murpharoo   \n",
       "13006932         joshgnosis   \n",
       "3555381912    Shorten_Suite   \n",
       "2928206756    GavanMacrides   \n",
       "600822759     DavidOBrien70   \n",
       "739838958   MineralsCouncil   \n",
       "\n",
       "                                                          url  \\\n",
       "user_id                                                         \n",
       "66917778    https://pbs.twimg.com/profile_images/687958069...   \n",
       "13006932    https://pbs.twimg.com/profile_images/125525401...   \n",
       "3555381912  https://pbs.twimg.com/profile_images/882886962...   \n",
       "2928206756  https://pbs.twimg.com/profile_images/851294256...   \n",
       "600822759   https://pbs.twimg.com/profile_images/113476066...   \n",
       "739838958   https://pbs.twimg.com/profile_images/595401078...   \n",
       "\n",
       "                                                  description  \\\n",
       "user_id                                                         \n",
       "66917778    Political editor, GuardianAU. Traffic acquisit...   \n",
       "13006932    Reporter @GuardianAus. Tech, infosec, FOI, pol...   \n",
       "3555381912  Twitter Account of Bill Shorten's Elite Flak-C...   \n",
       "2928206756                                                      \n",
       "600822759                                                       \n",
       "739838958   Official Twitter account for the Minerals Coun...   \n",
       "\n",
       "            followers_count  name_n_chars  name_n_commas  name_n_digits  \\\n",
       "user_id                                                                   \n",
       "66917778             188145            16              0              0   \n",
       "13006932              43969            11              0              0   \n",
       "3555381912            11499            15              0              0   \n",
       "2928206756               52            14              0              0   \n",
       "600822759               657            13              0              0   \n",
       "739838958             12381            19              0              0   \n",
       "\n",
       "            name_n_exclaims  name_n_extraspaces  name_n_hashtags  ...  \\\n",
       "user_id                                                           ...   \n",
       "66917778                  0                   1                0  ...   \n",
       "13006932                  0                   1                0  ...   \n",
       "3555381912                0                   2                0  ...   \n",
       "2928206756                0                   1                0  ...   \n",
       "600822759                 0                   1                0  ...   \n",
       "739838958                 0                   0                0  ...   \n",
       "\n",
       "            ww2_hashtag  wwii_hashtag  wyndham_hashtag  yearofthedog_hashtag  \\\n",
       "user_id                                                                        \n",
       "66917778            0.0           0.0              0.0                   0.0   \n",
       "13006932            0.0           0.0              0.0                   0.0   \n",
       "3555381912          0.0           0.0              0.0                   0.0   \n",
       "2928206756          0.0           0.0              0.0                   0.0   \n",
       "600822759           0.0           0.0              0.0                   0.0   \n",
       "739838958           0.0           0.0              0.0                   0.0   \n",
       "\n",
       "            yearofthepig_hashtag  young_hashtag  youradf_hashtag  influence  \\\n",
       "user_id                                                                       \n",
       "66917778                     0.0            0.0              0.0   2.481100   \n",
       "13006932                     0.0            0.0              0.0   2.090090   \n",
       "3555381912                   0.0            0.0              0.0   2.499303   \n",
       "2928206756                   0.0            0.0              0.0   2.000000   \n",
       "600822759                    0.0            0.0              0.0   2.000000   \n",
       "739838958                    0.0            0.0              0.0   2.000000   \n",
       "\n",
       "                                           cascade_membership   botness  \n",
       "user_id                                                                  \n",
       "66917778    [1001328518578429953, 1001977458487382016, 100...  0.231608  \n",
       "13006932    [1001948532205654023, 1001986330312740865, 100...  0.232707  \n",
       "3555381912  [1000217047651905541, 1001313684403048448, 100...  0.237657  \n",
       "2928206756  [1056772859853340672, 1062448144846225409, 106...  0.807822  \n",
       "600822759                               [1026064107676434432]  0.801732  \n",
       "739838958   [1035760725199745024, 1095506034372730881, 109...  0.797240  \n",
       "\n",
       "[6 rows x 1698 columns]"
      ]
     },
     "execution_count": 46,
     "metadata": {},
     "output_type": "execute_result"
    }
   ],
   "source": [
    "bs_pol.featureDataframe.sort_values('botness').iloc[[42, 45, 50, 7693 - 7 - 1,7693 - 28 - 1, 7693 - 67 - 1]]"
   ]
  },
  {
   "cell_type": "markdown",
   "metadata": {
    "slideshow": {
     "slide_type": "slide"
    }
   },
   "source": [
    "## Conclusion\n",
    "***\n",
    "* We present a simple, versatile, and powerful tool, `birdspotter`, for analyzing Twitter users\n",
    "* It has an extremely simple basic workflow, utilising many of the curated datasets practioners likely have.\n",
    "* It can be customized for the broad-range of use cases practioners are likely interested in.\n",
    "\n",
    "<small>All code for this presentation can be found here: <img src='https://chart.googleapis.com/chart?cht=qr&chl=https%3A%2F%2Fgithub.com%2Fbehavioral-ds%2FBirdSpotter&chs=180x180&choe=UTF-8&chld=L|2' width=\"300\" alt='' style=\"flex:1\"></small>"
   ]
  },
  {
   "cell_type": "markdown",
   "metadata": {
    "slideshow": {
     "slide_type": "slide"
    }
   },
   "source": [
    "<h1 style=\"color:#c9245d; text-align:center\">Thank You!</h1>\n",
    "\n",
    "#### References\n",
    "* van Vliet, L., Törnberg, P., & Uitermark, J. (2020). The Twitter parliamentarian database: Analyzing Twitter politics across 26 countries. PloS one, 15(9), e0237073.\n",
    "* Rizoiu, M. A., Graham, T., Zhang, R., Zhang, Y., Ackland, R., & Xie, L. (2018, June). # debatenight: The role and influence of socialbots on twitter during the 1st 2016 us presidential debate. In Proceedings of the International AAAI Conference on Web and Social Media (Vol. 12, No. 1).\n",
    "\n",
    "#### Acknowledgements\n",
    "* SIGIR Travel Grant\n",
    "\n",
    "<div style=\"display:flex; justify-content: flex-end; text-align: right;\">\n",
    "    <img src='uts.png' width=\"100\" alt='' style=\"flex:1\">\n",
    "    <img src='https://style.anu.edu.au/_anu/4/images/logos/anu_logo_fb_350.png' width=\"100\" alt='' style=\"flex:1\">\n",
    "    <img src='https://chart.googleapis.com/chart?cht=qr&chl=https%3A%2F%2Fgithub.com%2Fbehavioral-ds%2FBirdSpotter&chs=180x180&choe=UTF-8&chld=L|2' width=\"100\" alt='' style=\"flex:1\">\n",
    "</div>"
   ]
  }
 ],
 "metadata": {
  "celltoolbar": "Slideshow",
  "kernelspec": {
   "display_name": "bs",
   "language": "python",
   "name": "bs"
  },
  "language_info": {
   "codemirror_mode": {
    "name": "ipython",
    "version": 3
   },
   "file_extension": ".py",
   "mimetype": "text/x-python",
   "name": "python",
   "nbconvert_exporter": "python",
   "pygments_lexer": "ipython3",
   "version": "3.6.8"
  }
 },
 "nbformat": 4,
 "nbformat_minor": 4
}
